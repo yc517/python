{
 "cells": [
  {
   "cell_type": "markdown",
   "metadata": {},
   "source": [
    "### 鞋碼對應"
   ]
  },
  {
   "cell_type": "code",
   "execution_count": 34,
   "metadata": {},
   "outputs": [
    {
     "name": "stdout",
     "output_type": "stream",
     "text": [
      "請輸入您的腳長(cm): 26\n"
     ]
    }
   ],
   "source": [
    "egg = input(\"請輸入您的腳長(cm): \")"
   ]
  },
  {
   "cell_type": "code",
   "execution_count": 35,
   "metadata": {},
   "outputs": [],
   "source": [
    "cm = '21.5 22 22.5 23 23.5 24 24.5 25 25.5 26 26.5 27 27.5 28'.split()\n",
    "eu = '34 35 36 37 37.5 38 38.5 39 40 40.5 41 42 42.5 43'.split()\n",
    "uk = '1.5 2 3 3.5 4 4.5 5 5.5 6 6.5 7 7.5 8 8.5'.split()\n",
    "us = '4 4.5 5.5 6 6.5 7 7.5 8 8.5 9 9.5 10 10.5 11'.split()"
   ]
  },
  {
   "cell_type": "code",
   "execution_count": 36,
   "metadata": {},
   "outputs": [],
   "source": [
    "for i in cm:\n",
    "    if egg == i:\n",
    "        spam = i\n",
    "    else:\n",
    "        print('', end = '')"
   ]
  },
  {
   "cell_type": "code",
   "execution_count": 37,
   "metadata": {},
   "outputs": [
    {
     "name": "stdout",
     "output_type": "stream",
     "text": [
      "您的歐洲鞋碼為 40.5 號\n",
      "您的英國鞋碼為 6.5 號\n",
      "您的美國鞋碼為 9 號\n"
     ]
    }
   ],
   "source": [
    "a = cm.index(spam)\n",
    "print('您的歐洲鞋碼為 ' + str(eu[a]) + ' 號')\n",
    "print('您的英國鞋碼為 ' + str(uk[a]) + ' 號')\n",
    "print('您的美國鞋碼為 ' + str(us[a]) + ' 號')"
   ]
  },
  {
   "cell_type": "code",
   "execution_count": null,
   "metadata": {},
   "outputs": [],
   "source": []
  }
 ],
 "metadata": {
  "kernelspec": {
   "display_name": "Python 3",
   "language": "python",
   "name": "python3"
  },
  "language_info": {
   "codemirror_mode": {
    "name": "ipython",
    "version": 3
   },
   "file_extension": ".py",
   "mimetype": "text/x-python",
   "name": "python",
   "nbconvert_exporter": "python",
   "pygments_lexer": "ipython3",
   "version": "3.7.3"
  }
 },
 "nbformat": 4,
 "nbformat_minor": 2
}
