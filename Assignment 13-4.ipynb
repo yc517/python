{
 "cells": [
  {
   "cell_type": "markdown",
   "metadata": {},
   "source": [
    "### Tkinter Listbox"
   ]
  },
  {
   "cell_type": "code",
   "execution_count": 16,
   "metadata": {},
   "outputs": [],
   "source": [
    "import tkinter as tk"
   ]
  },
  {
   "cell_type": "code",
   "execution_count": 60,
   "metadata": {},
   "outputs": [],
   "source": [
    "window = tk.Tk()\n",
    "window.title('Constellation')\n",
    "window.geometry('350x300')\n",
    "\n",
    "def constellation():\n",
    "    month = varMonth.get()\n",
    "    date = varDate.get()\n",
    "    dates = (21, 20, 21, 21, 22, 22, 23, 24, 24, 24, 23, 22)\n",
    "    print(type(month), type(date), type(dates[2]))\n",
    "    constellations = (\"摩羯座\", \"水瓶座\", \"雙魚座\", \"牡羊座\", \"金牛座\", \"雙子座\", \"巨蟹座\", \"獅子座\", \"處女座\", \"天秤座\", \"天蝎座\", \"射手座\", \"魔羯座\")\n",
    "    if date < dates[month-1]:\n",
    "        egg = constellations[month-1]\n",
    "    else:\n",
    "        egg = constellations[month]\n",
    "    result.config(text = '你的星座是' + str(egg) + '！')\n",
    "\n",
    "\n",
    "#用Label顯示選取的月份跟日期\n",
    "m = tk.Label(window, text = 'Month')\n",
    "d = tk.Label(window, text = 'Date')\n",
    "result = tk.Label(window, text = '')\n",
    "\n",
    "#ListBox\n",
    "varMonth = tk.StringVar()\n",
    "varMonth.set((1, 2, 3, 4, 5, 6, 7, 8, 9, 10, 11, 12))\n",
    "Month = tk.Listbox(window, listvariable = varMonth, exportselection = False)\n",
    "\n",
    "varDate = tk.StringVar()\n",
    "varDate.set((1, 2, 3, 4, 5, 6, 7, 8, 9, 10, 11, 12, 13, 14, 15, 16, 17, 18, 19, 20, 21, 22, 23, 24, 25, 26, 27, 28, 29, 30, 31))\n",
    "Date = tk.Listbox(window, listvariable = varDate, exportselection = False)\n",
    "\n",
    "#Botton\n",
    "btn = tk.Button(window, text = 'GO', command = constellation)\n",
    "\n",
    "#Grid\n",
    "m.grid(row = 0, column = 0)\n",
    "d.grid(row = 0, column = 2)\n",
    "Month.grid(row = 1, column = 0)\n",
    "Date.grid(row = 1, column = 2)\n",
    "btn.grid(row = 2, column = 1)\n",
    "result.grid(row = 3, column = 1)\n",
    "\n",
    "window.mainloop()"
   ]
  },
  {
   "cell_type": "code",
   "execution_count": 50,
   "metadata": {},
   "outputs": [
    {
     "name": "stdout",
     "output_type": "stream",
     "text": [
      "1, 2, 3, 4, 5, 6, 7, 8, 9, 10, 11, 12, 13, 14, 15, 16, 17, 18, 19, 20, 21, 22, 23, 24, 25, 26, 27, 28, 29, 30, 31, "
     ]
    }
   ],
   "source": [
    "for i in range(1, 32):\n",
    "    print(i, end = ', ')"
   ]
  },
  {
   "cell_type": "code",
   "execution_count": null,
   "metadata": {},
   "outputs": [],
   "source": []
  }
 ],
 "metadata": {
  "kernelspec": {
   "display_name": "Python 3",
   "language": "python",
   "name": "python3"
  },
  "language_info": {
   "codemirror_mode": {
    "name": "ipython",
    "version": 3
   },
   "file_extension": ".py",
   "mimetype": "text/x-python",
   "name": "python",
   "nbconvert_exporter": "python",
   "pygments_lexer": "ipython3",
   "version": "3.7.3"
  }
 },
 "nbformat": 4,
 "nbformat_minor": 2
}
