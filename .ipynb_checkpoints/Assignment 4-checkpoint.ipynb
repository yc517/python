{
 "cells": [
  {
   "cell_type": "code",
   "execution_count": 8,
   "metadata": {},
   "outputs": [
    {
     "data": {
      "text/plain": [
       "1570338874.4492638"
      ]
     },
     "execution_count": 8,
     "metadata": {},
     "output_type": "execute_result"
    }
   ],
   "source": [
    "import time\n",
    "time.time() #返回的UTC時間，是從1970.1.1到現在的秒數"
   ]
  },
  {
   "cell_type": "code",
   "execution_count": 9,
   "metadata": {},
   "outputs": [
    {
     "data": {
      "text/plain": [
       "'Sun Oct  6 13:14:35 2019'"
      ]
     },
     "execution_count": 9,
     "metadata": {},
     "output_type": "execute_result"
    }
   ],
   "source": [
    "time.ctime(time.time()) #函數接收一個以秒為單位的實際，然後轉換成本地時間的字符串表示"
   ]
  },
  {
   "cell_type": "code",
   "execution_count": 10,
   "metadata": {},
   "outputs": [
    {
     "data": {
      "text/plain": [
       "'10/06/2019 13:14'"
      ]
     },
     "execution_count": 10,
     "metadata": {},
     "output_type": "execute_result"
    }
   ],
   "source": [
    "from time import strftime, gmtime\n",
    "strftime(\"%m/%d/%Y %H:%M\") #格式化時間輸出"
   ]
  },
  {
   "cell_type": "code",
   "execution_count": 21,
   "metadata": {},
   "outputs": [],
   "source": [
    "from time import strftime\n",
    "from datetime import datetime, timedelta\n",
    "datetime.now().strftime('%Y-%m-%d') #another way\n",
    "now = datetime.now()"
   ]
  },
  {
   "cell_type": "code",
   "execution_count": 22,
   "metadata": {},
   "outputs": [
    {
     "name": "stdout",
     "output_type": "stream",
     "text": [
      "請輸入活動名稱ʕ •ᴥ•ʔ：g\n",
      "請以YYYY-MM-DD方式輸入活動日期ʕ •ᴥ•ʔ：1998-10-09\n"
     ]
    },
    {
     "data": {
      "application/vnd.jupyter.widget-view+json": {
       "model_id": "e9e9cee1d0bf4e03b2f0298afd7d2ecc",
       "version_major": 2,
       "version_minor": 0
      },
      "text/plain": [
       "interactive(children=(Dropdown(description='x', options={'倒數－顯示距離特定活動剩餘日期': 1, '紀念日－顯示已過去的特定紀念日': 2}, value=1)…"
      ]
     },
     "metadata": {},
     "output_type": "display_data"
    }
   ],
   "source": [
    "def getValue(x):\n",
    "    return x\n",
    "\n",
    "egg = input(\"請輸入活動名稱ʕ •ᴥ•ʔ：\")\n",
    "spam = input(\"請以YYYY-MM-DD方式輸入活動日期ʕ •ᴥ•ʔ：\")\n",
    "eventDay = spam.split(\"-\")\n",
    "year = int(eventDay[0])\n",
    "month = int(eventDay[1])\n",
    "date = int(eventDay[2])\n",
    "event = datetime(year, month, date, 0, 0, 0, 0)\n",
    "\n",
    "from ipywidgets import interact\n",
    "def day(x):\n",
    "    ham = getValue(x)\n",
    "    if(ham == 1):\n",
    "        left = event - now\n",
    "        strLeft = str(left)\n",
    "        length = int(len(strLeft))\n",
    "        index = int(strLeft.find(\"d\"))\n",
    "        DAY = strLeft.replace(strLeft[index: length], '')\n",
    "        print(\"(๑´ㅁ`)：距離\" + egg + \"還有 \" + DAY + \"天\")\n",
    "    elif(ham == 2):\n",
    "        dst = now - event\n",
    "        strDst = str(dst)\n",
    "        length = int(len(strDst))\n",
    "        index = int(strDst.find(\"d\"))\n",
    "        DAY = strDst.replace(strDst[index: length], '')\n",
    "        print(\"(๑´ㅁ`)：距離\" + egg + \"已過去 \" + DAY + \"天\")\n",
    "interact(day, x = {\"倒數－顯示距離特定活動剩餘日期\": 1, \"紀念日－顯示已過去的特定紀念日\": 2});"
   ]
  },
  {
   "cell_type": "code",
   "execution_count": 52,
   "metadata": {},
   "outputs": [
    {
     "name": "stdout",
     "output_type": "stream",
     "text": [
      "\"1980\", \"1981\", \"1982\", \"1983\", \"1984\", \"1985\", \"1986\", \"1987\", \"1988\", \"1989\", \"1990\", \"1991\", \"1992\", \"1993\", \"1994\", \"1995\", \"1996\", \"1997\", \"1998\", \"1999\", \"2000\", \"2001\", \"2002\", \"2003\", \"2004\", \"2005\", \"2006\", \"2007\", \"2008\", \"2009\", \"2010\", \"2011\", \"2012\", \"2013\", \"2014\", \"2015\", \"2016\", \"2017\", \"2018\", "
     ]
    }
   ],
   "source": [
    "a = range(1980, 2019, 1)\n",
    "for i in a:\n",
    "    print('\\\"' + str(i) + '\\\", ', end=\"\")"
   ]
  },
  {
   "cell_type": "code",
   "execution_count": null,
   "metadata": {},
   "outputs": [],
   "source": []
  }
 ],
 "metadata": {
  "kernelspec": {
   "display_name": "Python 3",
   "language": "python",
   "name": "python3"
  },
  "language_info": {
   "codemirror_mode": {
    "name": "ipython",
    "version": 3
   },
   "file_extension": ".py",
   "mimetype": "text/x-python",
   "name": "python",
   "nbconvert_exporter": "python",
   "pygments_lexer": "ipython3",
   "version": "3.7.3"
  }
 },
 "nbformat": 4,
 "nbformat_minor": 2
}
