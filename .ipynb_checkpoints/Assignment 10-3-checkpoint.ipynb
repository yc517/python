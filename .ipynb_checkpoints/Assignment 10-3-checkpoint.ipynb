{
 "cells": [
  {
   "cell_type": "markdown",
   "metadata": {},
   "source": [
    "### 猜動物小遊戲"
   ]
  },
  {
   "cell_type": "code",
   "execution_count": 16,
   "metadata": {},
   "outputs": [],
   "source": [
    "%matplotlib inline\n",
    "import matplotlib.pyplot as plt\n",
    "import numpy as np\n",
    "import pandas as pd\n",
    "\n",
    "import time\n",
    "from random import randint"
   ]
  },
  {
   "cell_type": "code",
   "execution_count": 17,
   "metadata": {},
   "outputs": [],
   "source": [
    "guesses = ''\n",
    "turns = 5\n",
    "words = ['Dog', 'Puppy', 'Turtle', 'Rabbit', 'Parrot', 'cat', 'Kitten', 'Fish', 'Goldfish', 'Mouse', 'Pig', 'sheep', 'monkey', 'ckicken', 'cow', 'duck', 'horse', 'bird']"
   ]
  },
  {
   "cell_type": "code",
   "execution_count": 18,
   "metadata": {},
   "outputs": [],
   "source": [
    "spam = list()\n",
    "for i in range(len(words)):\n",
    "    a = words[i].upper()\n",
    "    spam.append(a)"
   ]
  },
  {
   "cell_type": "code",
   "execution_count": 19,
   "metadata": {},
   "outputs": [
    {
     "data": {
      "text/plain": [
       "18"
      ]
     },
     "execution_count": 19,
     "metadata": {},
     "output_type": "execute_result"
    }
   ],
   "source": [
    "len(spam)"
   ]
  },
  {
   "cell_type": "code",
   "execution_count": 20,
   "metadata": {},
   "outputs": [],
   "source": [
    "def randomWord(wordList):\n",
    "    n = randint(0, len(wordList)-1)\n",
    "    return wordList[n]"
   ]
  },
  {
   "cell_type": "code",
   "execution_count": 21,
   "metadata": {},
   "outputs": [],
   "source": [
    "word = randomWord(spam)"
   ]
  },
  {
   "cell_type": "code",
   "execution_count": 22,
   "metadata": {},
   "outputs": [
    {
     "name": "stdout",
     "output_type": "stream",
     "text": [
      "_ _ _ _ _ _ 猜一個字母:r\n",
      "錯!\n",
      "你還有 4 次\n",
      "_ _ _ _ _ _ 猜一個字母:a\n",
      "錯!\n",
      "你還有 3 次\n",
      "_ _ _ _ _ _ 猜一個字母:i\n",
      "_ I _ _ _ _ 猜一個字母:e\n",
      "_ I _ _ E _ 猜一個字母:k\n",
      "K I _ _ E _ 猜一個字母:t\n",
      "K I T T E _ 猜一個字母:n\n",
      "K I T T E N 猜對啦！！！\n"
     ]
    }
   ],
   "source": [
    "while turns > 0:         \n",
    "    failed = 0              \n",
    "    for egg in word:      \n",
    "        if egg in guesses:      \n",
    "            print(egg, end=\" \")    \n",
    "        else:\n",
    "            print(\"_\", end=\" \")     \n",
    "            failed += 1            \n",
    "    if failed == 0:        \n",
    "        print (\"猜對啦！！！\")  \n",
    "        break              \n",
    "    guess = input(\"猜一個字母:\").upper()\n",
    "    guesses += guess                    \n",
    "    if guess not in word:  \n",
    "        turns -= 1        \n",
    "        print(\"錯!\")    \n",
    "        print(\"你還有\", + turns, '次')\n",
    "        if turns == 0:           \n",
    "            print(\"你輸了\")"
   ]
  },
  {
   "cell_type": "code",
   "execution_count": null,
   "metadata": {},
   "outputs": [],
   "source": []
  }
 ],
 "metadata": {
  "kernelspec": {
   "display_name": "Python 3",
   "language": "python",
   "name": "python3"
  },
  "language_info": {
   "codemirror_mode": {
    "name": "ipython",
    "version": 3
   },
   "file_extension": ".py",
   "mimetype": "text/x-python",
   "name": "python",
   "nbconvert_exporter": "python",
   "pygments_lexer": "ipython3",
   "version": "3.7.3"
  }
 },
 "nbformat": 4,
 "nbformat_minor": 2
}
