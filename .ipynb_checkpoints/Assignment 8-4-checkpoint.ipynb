{
 "cells": [
  {
   "cell_type": "markdown",
   "metadata": {},
   "source": [
    "## 猜拳！"
   ]
  },
  {
   "cell_type": "code",
   "execution_count": 14,
   "metadata": {},
   "outputs": [],
   "source": [
    "import numpy as np\n",
    "from ipywidgets import interact_manual"
   ]
  },
  {
   "cell_type": "code",
   "execution_count": 23,
   "metadata": {},
   "outputs": [
    {
     "name": "stdout",
     "output_type": "stream",
     "text": [
      "剪刀石頭布！你要出什麼？\n"
     ]
    },
    {
     "data": {
      "application/vnd.jupyter.widget-view+json": {
       "model_id": "7f4e87fba1124208bea8b1a5578bfd7d",
       "version_major": 2,
       "version_minor": 0
      },
      "text/plain": [
       "interactive(children=(Dropdown(description='x', options=('✌', '✊', '🖐'), value='✌'), Button(description='Run I…"
      ]
     },
     "metadata": {},
     "output_type": "display_data"
    }
   ],
   "source": [
    "egg = ['✌', '✊', '🖐']\n",
    "ran = egg[np.random.randint(0, 2)]\n",
    "\n",
    "def getValue(x):\n",
    "    return x\n",
    "\n",
    "print('剪刀石頭布！你要出什麼？')\n",
    "def play(x):\n",
    "    ham = getValue(x)\n",
    "    print('電腦出' + ran)\n",
    "    if ran == ham:\n",
    "        print('平手！')\n",
    "    elif ran == '✊':\n",
    "        if ham == '🖐':\n",
    "            print('恭喜獲勝！')\n",
    "        else:\n",
    "            print('輸啦！')\n",
    "    elif ran == '🖐':\n",
    "        if ham == '✌':\n",
    "            print('恭喜獲勝！')\n",
    "        else:\n",
    "            print('輸啦！')\n",
    "    elif ran == '✌':\n",
    "        if ham == '✊':\n",
    "            print('恭喜獲勝！')\n",
    "        else:\n",
    "            print('輸啦！')\n",
    "interact_manual(play, x = ['✌', '✊', '🖐']);"
   ]
  }
 ],
 "metadata": {
  "kernelspec": {
   "display_name": "Python 3",
   "language": "python",
   "name": "python3"
  },
  "language_info": {
   "codemirror_mode": {
    "name": "ipython",
    "version": 3
   },
   "file_extension": ".py",
   "mimetype": "text/x-python",
   "name": "python",
   "nbconvert_exporter": "python",
   "pygments_lexer": "ipython3",
   "version": "3.7.3"
  }
 },
 "nbformat": 4,
 "nbformat_minor": 2
}
