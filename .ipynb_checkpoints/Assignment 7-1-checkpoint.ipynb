{
 "cells": [
  {
   "cell_type": "markdown",
   "metadata": {},
   "source": [
    "## 7 - 1 iPyturtle"
   ]
  },
  {
   "cell_type": "code",
   "execution_count": 40,
   "metadata": {},
   "outputs": [],
   "source": [
    "from turtle import Turtle\n",
    "import ipywidgets as widgets\n",
    "from IPython.display import display"
   ]
  },
  {
   "cell_type": "code",
   "execution_count": 41,
   "metadata": {},
   "outputs": [
    {
     "data": {
      "application/vnd.jupyter.widget-view+json": {
       "model_id": "41eb43706c4445f28699532a9ad2ae65",
       "version_major": 2,
       "version_minor": 0
      },
      "text/plain": [
       "Dropdown(description='請選擇形狀:', options=('三角形', '正方形', '圓形'), value='三角形')"
      ]
     },
     "metadata": {},
     "output_type": "display_data"
    },
    {
     "data": {
      "application/vnd.jupyter.widget-view+json": {
       "model_id": "dd1c628485bf4de5af921b9bbc117d45",
       "version_major": 2,
       "version_minor": 0
      },
      "text/plain": [
       "Dropdown(description='請選擇顏色:', options=('紅色', '藍色', '黃色'), value='紅色')"
      ]
     },
     "metadata": {},
     "output_type": "display_data"
    }
   ],
   "source": [
    "shape = widgets.Dropdown(\n",
    "    options=['三角形', '正方形', '圓形'],\n",
    "    value='三角形',\n",
    "    description='請選擇形狀:',\n",
    "    disabled=False,\n",
    ")\n",
    "display(shape)\n",
    "\n",
    "color = widgets.Dropdown(\n",
    "    options=['紅色', '藍色', '黃色'],\n",
    "    value='紅色',\n",
    "    description='請選擇顏色:',\n",
    "    disabled=False,\n",
    ")\n",
    "display(color)"
   ]
  },
  {
   "cell_type": "code",
   "execution_count": 42,
   "metadata": {},
   "outputs": [],
   "source": [
    "s = shape.value\n",
    "c = color.value\n",
    "t = Turtle()\n",
    "\n",
    "if s == '三角形' and c == '紅色':\n",
    "    for i in range(3):\n",
    "        t.color('red')\n",
    "        t.forward(50)\n",
    "        t.forward(120)\n",
    "        \n",
    "elif s == '正方形' and c == '紅色':\n",
    "    for i in range(4):\n",
    "        t.color('red')\n",
    "        t.forward(50)\n",
    "        t.forward(90)\n",
    "        \n",
    "elif s == '圓形' and c == '紅色':\n",
    "    t.color('red')\n",
    "    t.circle(50)\n",
    "    \n",
    "elif s == '三角形' and c == '藍色':\n",
    "    for i in range(3):\n",
    "        t.color('blue')\n",
    "        t.forward(50)\n",
    "        t.forward(120)\n",
    "        \n",
    "elif s == '正方形' and c == '藍色':\n",
    "    for i in range(4):\n",
    "        t.color('blue')\n",
    "        t.forward(50)\n",
    "        t.forward(90)\n",
    "        \n",
    "elif s == '圓形' and c == '藍色':\n",
    "    t.color('blue')\n",
    "    t.circle(50)\n",
    "    \n",
    "elif s == '三角形' and c == '黃色':\n",
    "    for i in range(3):\n",
    "        t.color('yellow')\n",
    "        t.forward(50)\n",
    "        t.forward(120)\n",
    "        \n",
    "elif s == '正方形' and c == '黃色':\n",
    "    for i in range(4):\n",
    "        t.color('yellow')\n",
    "        t.forward(50)\n",
    "        t.forward(90)\n",
    "        \n",
    "elif s == '圓形' and c == '黃色':\n",
    "    t.color('yellow')\n",
    "    t.circle(50)"
   ]
  },
  {
   "cell_type": "code",
   "execution_count": null,
   "metadata": {},
   "outputs": [],
   "source": []
  }
 ],
 "metadata": {
  "kernelspec": {
   "display_name": "Python 3",
   "language": "python",
   "name": "python3"
  },
  "language_info": {
   "codemirror_mode": {
    "name": "ipython",
    "version": 3
   },
   "file_extension": ".py",
   "mimetype": "text/x-python",
   "name": "python",
   "nbconvert_exporter": "python",
   "pygments_lexer": "ipython3",
   "version": "3.7.3"
  }
 },
 "nbformat": 4,
 "nbformat_minor": 2
}
