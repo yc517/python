{
 "cells": [
  {
   "cell_type": "markdown",
   "metadata": {},
   "source": [
    "## 猜數字遊戲"
   ]
  },
  {
   "cell_type": "code",
   "execution_count": 1,
   "metadata": {},
   "outputs": [],
   "source": [
    "import numpy as np"
   ]
  },
  {
   "cell_type": "code",
   "execution_count": 5,
   "metadata": {},
   "outputs": [
    {
     "name": "stdout",
     "output_type": "stream",
     "text": [
      "請設定本局遊戲的最小值:6\n",
      "請設定本局遊戲的最大值:8\n",
      "\u001b[7;32m ヾ(○゜▽゜○) 猜數字遊戲 (＠゜▽゜@)ノ \u001b[0m\n",
      "請輸入你猜的數字：9\n",
      "\u001b[7;31m (´･_･`)太大ㄌ \u001b[0m\n",
      "請輸入你猜的數字：7\n",
      "\u001b[7;31m (´･_･`)太大ㄌ \u001b[0m\n",
      "請輸入你猜的數字：6\n",
      "\u001b[7;34m (๑¯∀¯๑)恭喜答對！！！ \u001b[0m\n",
      "你總共猜了3次\n"
     ]
    }
   ],
   "source": [
    "floor = int(input(\"請設定本局遊戲的最小值:\"))\n",
    "cap = int(input(\"請設定本局遊戲的最大值:\"))\n",
    "num = np.random.randint(floor, cap)\n",
    "guess = \"guess\"\n",
    "print(\"\\033[7;32m ヾ(○゜▽゜○) 猜數字遊戲 (＠゜▽゜@)ノ \\033[0m\")\n",
    "\n",
    "i = 0\n",
    "while guess != num:\n",
    "    i += 1\n",
    "    guess = int(input(\"請輸入你猜的數字：\"))\n",
    "\n",
    "    if guess == num:\n",
    "        print(\"\\033[7;34m (๑¯∀¯๑)恭喜答對！！！ \\033[0m\")\n",
    "    elif guess < num:\n",
    "        print(\"\\033[7;31m (´･_･`)太小ㄌ \\033[0m\")\n",
    "    else:\n",
    "        print(\"\\033[7;31m (´･_･`)太大ㄌ \\033[0m\")\n",
    "\n",
    "print(\"你總共猜了%d\" %i + \"次\")"
   ]
  },
  {
   "cell_type": "code",
   "execution_count": null,
   "metadata": {},
   "outputs": [],
   "source": []
  }
 ],
 "metadata": {
  "kernelspec": {
   "display_name": "Python 3",
   "language": "python",
   "name": "python3"
  },
  "language_info": {
   "codemirror_mode": {
    "name": "ipython",
    "version": 3
   },
   "file_extension": ".py",
   "mimetype": "text/x-python",
   "name": "python",
   "nbconvert_exporter": "python",
   "pygments_lexer": "ipython3",
   "version": "3.7.3"
  }
 },
 "nbformat": 4,
 "nbformat_minor": 2
}
