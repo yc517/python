{
 "cells": [
  {
   "cell_type": "markdown",
   "metadata": {},
   "source": [
    "## 計算BMI"
   ]
  },
  {
   "cell_type": "code",
   "execution_count": 26,
   "metadata": {},
   "outputs": [
    {
     "name": "stdout",
     "output_type": "stream",
     "text": [
      "請輸入您的體重(kg): 40\n",
      "請輸入您的身高(cm): 170\n"
     ]
    }
   ],
   "source": [
    "weight = input(\"請輸入您的體重(kg): \")\n",
    "height = input('請輸入您的身高(cm): ')"
   ]
  },
  {
   "cell_type": "code",
   "execution_count": 28,
   "metadata": {},
   "outputs": [
    {
     "name": "stdout",
     "output_type": "stream",
     "text": [
      "您的BMI值為 138408.3\n",
      "\u001b[7;31m 體重過重! \u001b[0m\n"
     ]
    }
   ],
   "source": [
    "height = float(height)/100\n",
    "bmi = float(weight)/(height*height)\n",
    "bmi = round(bmi, 2)\n",
    "print('您的BMI值為 ' + str(bmi))\n",
    "\n",
    "if bmi < 18.5:\n",
    "    print(\"\\033[7;33m 體重過輕! \\033[0m\")\n",
    "elif 18.5 <= bmi and bmi < 24:\n",
    "    print(\"\\033[7;34m 體重正常! \\033[0m\")\n",
    "else:\n",
    "    print(\"\\033[7;31m 體重過重! \\033[0m\")"
   ]
  },
  {
   "cell_type": "code",
   "execution_count": null,
   "metadata": {},
   "outputs": [],
   "source": []
  }
 ],
 "metadata": {
  "kernelspec": {
   "display_name": "Python 3",
   "language": "python",
   "name": "python3"
  },
  "language_info": {
   "codemirror_mode": {
    "name": "ipython",
    "version": 3
   },
   "file_extension": ".py",
   "mimetype": "text/x-python",
   "name": "python",
   "nbconvert_exporter": "python",
   "pygments_lexer": "ipython3",
   "version": "3.7.3"
  }
 },
 "nbformat": 4,
 "nbformat_minor": 2
}
