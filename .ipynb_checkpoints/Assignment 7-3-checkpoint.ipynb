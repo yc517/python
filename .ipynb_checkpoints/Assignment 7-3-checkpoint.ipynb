{
 "cells": [
  {
   "cell_type": "markdown",
   "metadata": {},
   "source": [
    "## 7 - 3 撲克牌選擇"
   ]
  },
  {
   "cell_type": "code",
   "execution_count": 1,
   "metadata": {},
   "outputs": [],
   "source": [
    "import ipywidgets as widgets\n",
    "from IPython.display import display"
   ]
  },
  {
   "cell_type": "code",
   "execution_count": 2,
   "metadata": {},
   "outputs": [
    {
     "data": {
      "application/vnd.jupyter.widget-view+json": {
       "model_id": "ccc817b869c34c2194d3e51524fb51a5",
       "version_major": 2,
       "version_minor": 0
      },
      "text/plain": [
       "Dropdown(description='請選擇花色: ', options=('♧', '♢', '♡', '♤'), value='♧')"
      ]
     },
     "metadata": {},
     "output_type": "display_data"
    },
    {
     "data": {
      "application/vnd.jupyter.widget-view+json": {
       "model_id": "94f2172b4c674b968c8a5609720590e0",
       "version_major": 2,
       "version_minor": 0
      },
      "text/plain": [
       "Dropdown(description='請選擇數字: ', options=('A', '2', '3', '4', '5', '6', '7', '8', '9', '10', 'J', 'Q', 'K'), va…"
      ]
     },
     "metadata": {},
     "output_type": "display_data"
    }
   ],
   "source": [
    "ham = widgets.Dropdown(\n",
    "    options = ['♧', '♢', '♡', '♤'],\n",
    "    value = '♧',\n",
    "    description = '請選擇花色: ',\n",
    "    disabled = False,\n",
    ")\n",
    "display(ham)\n",
    "\n",
    "egg = widgets.Dropdown(\n",
    "    options = ['A', '2', '3', '4', '5', '6', '7', '8', '9', '10', 'J', 'Q', 'K'],\n",
    "    value = 'A',\n",
    "    description = '請選擇數字: ',\n",
    "    disabled = False,\n",
    ")\n",
    "display(egg)"
   ]
  },
  {
   "cell_type": "code",
   "execution_count": 3,
   "metadata": {},
   "outputs": [
    {
     "name": "stdout",
     "output_type": "stream",
     "text": [
      "您選擇的撲克牌是: ♢10\n"
     ]
    }
   ],
   "source": [
    "#choose suit value\n",
    "if ham.value == '♧':\n",
    "    suit_choose = 0\n",
    "elif ham.value == '♢':\n",
    "    suit_choose = 1\n",
    "elif ham.value == '♡':\n",
    "    suit_choose = 2\n",
    "elif ham.value == '♤':\n",
    "    suit_choose = 3\n",
    "\n",
    "#choose rank value\n",
    "if egg.value == 'A':\n",
    "    rank_choose = 14\n",
    "elif egg.value == '2':\n",
    "    rank_choose = 2\n",
    "elif egg.value == '3':\n",
    "    rank_choose = 3\n",
    "elif egg.value == '4':\n",
    "    rank_choose = 4\n",
    "elif egg.value == '5':\n",
    "    rank_choose = 5\n",
    "elif egg.value == '6':\n",
    "    rank_choose = 6\n",
    "elif egg.value == '7':\n",
    "    rank_choose = 7\n",
    "elif egg.value == '8':\n",
    "    rank_choose = 8\n",
    "elif egg.value == '9':\n",
    "    rank_choose = 9\n",
    "elif egg.value == '10':\n",
    "    rank_choose = 10\n",
    "elif egg.value == 'J':\n",
    "    rank_choose = 11\n",
    "elif egg.value == 'Q':\n",
    "    rank_choose = 12\n",
    "elif egg.value == 'K':\n",
    "    rank_choose = 13\n",
    "    \n",
    "print('您選擇的撲克牌是: ' + ham.value + egg.value)"
   ]
  }
 ],
 "metadata": {
  "kernelspec": {
   "display_name": "Python 3",
   "language": "python",
   "name": "python3"
  },
  "language_info": {
   "codemirror_mode": {
    "name": "ipython",
    "version": 3
   },
   "file_extension": ".py",
   "mimetype": "text/x-python",
   "name": "python",
   "nbconvert_exporter": "python",
   "pygments_lexer": "ipython3",
   "version": "3.7.3"
  }
 },
 "nbformat": 4,
 "nbformat_minor": 2
}
