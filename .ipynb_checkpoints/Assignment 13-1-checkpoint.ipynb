{
 "cells": [
  {
   "cell_type": "markdown",
   "metadata": {},
   "source": [
    "### 完整BMI計算機"
   ]
  },
  {
   "cell_type": "code",
   "execution_count": 12,
   "metadata": {},
   "outputs": [],
   "source": [
    "import tkinter as tk\n",
    "\n",
    "def cal():\n",
    "    bmi = round(float(weightVar.get())/(float(heightVar.get())/100)**2, 2)\n",
    "    r = '你的 BMI 指數 = {} {}'.format(bmi, bmiStatus(bmi))\n",
    "    result_label.config(text = r)\n",
    "    \n",
    "def bmiStatus(bmi):\n",
    "    if bmi < 18.5:\n",
    "        return '過輕！'\n",
    "    elif bmi >= 18.5 and bmi < 24:\n",
    "        return '適中！'\n",
    "    elif bmi >= 24 :\n",
    "        return '過重！'\n",
    "\n",
    "window = tk.Tk()\n",
    "# 設定視窗標題、大小和背景顏色\n",
    "window.title('BMI Calculator')\n",
    "window.geometry('400x300')\n",
    "#window.configure(background='white')\n",
    "\n",
    "header_label = tk.Label(window, text='BMI Calculator')\n",
    "header_label.pack()\n",
    "\n",
    "#for weight\n",
    "frame = tk.Frame(window)\n",
    "frame.pack()\n",
    "\n",
    "weightVar = tk.StringVar()\n",
    "weightVar.set('60')\n",
    "\n",
    "lbl = tk.Label(frame, text = 'Weight')\n",
    "lbl.pack(side = 'left')\n",
    "entry = tk.Entry(frame, textvariable = weightVar)\n",
    "entry.pack(side = 'top')\n",
    "\n",
    "#for height\n",
    "frame2 = tk.Frame(window)\n",
    "frame2.pack()\n",
    "\n",
    "heightVar = tk.StringVar()\n",
    "\n",
    "lbl2 = tk.Label(frame2, text = 'Height')\n",
    "lbl2.pack(side = 'left')\n",
    "entry2 = tk.Entry(frame2, textvariable = heightVar)\n",
    "entry2.pack(side = 'top')\n",
    "\n",
    "result_label = tk.Label(window)\n",
    "result_label.pack()\n",
    "\n",
    "calculate_btn = tk.Button(window, text='GO', command = cal)\n",
    "calculate_btn.pack()\n",
    "\n",
    "# 運行主程式\n",
    "window.mainloop()"
   ]
  },
  {
   "cell_type": "code",
   "execution_count": null,
   "metadata": {},
   "outputs": [],
   "source": []
  },
  {
   "cell_type": "code",
   "execution_count": null,
   "metadata": {},
   "outputs": [],
   "source": []
  }
 ],
 "metadata": {
  "kernelspec": {
   "display_name": "Python 3",
   "language": "python",
   "name": "python3"
  },
  "language_info": {
   "codemirror_mode": {
    "name": "ipython",
    "version": 3
   },
   "file_extension": ".py",
   "mimetype": "text/x-python",
   "name": "python",
   "nbconvert_exporter": "python",
   "pygments_lexer": "ipython3",
   "version": "3.7.3"
  }
 },
 "nbformat": 4,
 "nbformat_minor": 2
}
