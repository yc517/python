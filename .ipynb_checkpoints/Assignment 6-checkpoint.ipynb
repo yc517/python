{
 "cells": [
  {
   "cell_type": "markdown",
   "metadata": {},
   "source": [
    "## 旅遊景點推薦（更新）"
   ]
  },
  {
   "cell_type": "code",
   "execution_count": 3,
   "metadata": {},
   "outputs": [],
   "source": [
    "from IPython.display import Image, YouTubeVideo\n",
    "from ipywidgets import interact\n",
    "tp = Image(url = \"https://res.klook.com/images/fl_lossy.progressive,q_65/c_fill,w_1200,h_630,f_auto/w_80,x_15,y_15,g_south_west,l_klook_water/activities/vxcjhqicqpoah4moqiok/%E5%8F%B0%E5%8C%97101%E8%A7%80%E6%99%AF%E5%8F%B0%E9%96%80%E7%A5%A8.jpg\")\n",
    "tc = Image(url = \"https://1.bp.blogspot.com/-uI0AzUy0JOQ/V8Uo30FQRCI/AAAAAAAAih0/CCOT4fFLZVMorCv9xqB9IycJZElloqcIACPcB/s1600/DSC_8987-2.jpg\")\n",
    "tn = Image(url = \"https://res.klook.com/images/fl_lossy.progressive,q_65/c_fill,w_1295,h_720,f_auto/w_80,x_15,y_15,g_south_west,l_klook_water/activities/ekiqpibpk36afbldzxiq/%E5%8F%B0%E5%8D%97%E5%A5%87%E7%BE%8E%E5%8D%9A%E7%89%A9%E9%A4%A8%E5%B8%B8%E8%A8%AD%E5%B1%95%E7%89%B9%E5%B1%95%E9%96%80%E7%A5%A8.jpg\")\n",
    "\n",
    "tpV = YouTubeVideo('KBqHnL5intg')\n",
    "tcV = YouTubeVideo('bKf4g4ixNvk')\n",
    "tnV = YouTubeVideo('Kp5uOXyNRuE')"
   ]
  },
  {
   "cell_type": "code",
   "execution_count": 4,
   "metadata": {},
   "outputs": [
    {
     "data": {
      "application/vnd.jupyter.widget-view+json": {
       "model_id": "adb17dff7c1d4f1096e3b9e8d98a1d29",
       "version_major": 2,
       "version_minor": 0
      },
      "text/plain": [
       "interactive(children=(Dropdown(description='x', options=('台北', '台中', '台南'), value='台北'), Output()), _dom_class…"
      ]
     },
     "metadata": {},
     "output_type": "display_data"
    }
   ],
   "source": [
    "def getValue(x):\n",
    "    return x\n",
    "\n",
    "def travel(x):\n",
    "    ham = getValue(x)\n",
    "    print(\"(๑´ㅁ`)：我想去\" + ham)\n",
    "    if(ham == \"台北\"):\n",
    "        print(\"(*´∀`)~♥：推薦你去台北101\")\n",
    "        display(tpV)\n",
    "        display(tp)\n",
    "    elif(ham == \"台中\"):\n",
    "        print(\"(*´∀`)~♥：推薦你去台中歌劇院\")\n",
    "        display(tcV)\n",
    "        display(tc)\n",
    "    elif(ham == \"台南\"):\n",
    "        print(\"(*´∀`)~♥：推薦你去奇美博物館\")\n",
    "        display(tnV)\n",
    "        display(tn)\n",
    "interact(travel, x = [\"台北\", \"台中\", \"台南\"]);"
   ]
  },
  {
   "cell_type": "markdown",
   "metadata": {},
   "source": [
    "## 聖誕樹"
   ]
  },
  {
   "cell_type": "code",
   "execution_count": 10,
   "metadata": {},
   "outputs": [
    {
     "name": "stdout",
     "output_type": "stream",
     "text": [
      "　　　　　　　　☆\n",
      "               *               \n",
      "              ***              \n",
      "             *****             \n",
      "            *******            \n",
      "           *********           \n",
      "          ***********          \n",
      "         *************         \n",
      "        ***************        \n",
      "       *****************       \n",
      "      *******************      \n",
      "　　　　　　　　| |\n"
     ]
    }
   ],
   "source": [
    "level = 10\n",
    "print(\"　\"*8+\"☆\")\n",
    "for n in range(level):\n",
    "    a = \"*\"*(2*n+1)\n",
    "    print(f\"{a:^31s}\")\n",
    "\n",
    "print(\"　\"*8 + \"| |\")"
   ]
  },
  {
   "cell_type": "markdown",
   "metadata": {},
   "source": [
    "## iPyturtle"
   ]
  },
  {
   "cell_type": "code",
   "execution_count": 9,
   "metadata": {},
   "outputs": [],
   "source": [
    "from turtle import Turtle"
   ]
  },
  {
   "cell_type": "code",
   "execution_count": 10,
   "metadata": {},
   "outputs": [],
   "source": [
    "t = Turtle()\n",
    "\n",
    "for i in range(4):\n",
    "    t.forward(50)\n",
    "    t.forward(90)"
   ]
  },
  {
   "cell_type": "markdown",
   "metadata": {},
   "source": [
    "## iPyturtle 互動"
   ]
  },
  {
   "cell_type": "code",
   "execution_count": 11,
   "metadata": {},
   "outputs": [],
   "source": [
    "import ipywidgets as widgets\n",
    "from IPython.display import display"
   ]
  },
  {
   "cell_type": "code",
   "execution_count": 12,
   "metadata": {},
   "outputs": [
    {
     "data": {
      "application/vnd.jupyter.widget-view+json": {
       "model_id": "d32cb80c9009420bb4ad79f07d21905e",
       "version_major": 2,
       "version_minor": 0
      },
      "text/plain": [
       "Dropdown(description='請選擇形狀:', options=('三角形', '正方形', '圓形'), value='三角形')"
      ]
     },
     "metadata": {},
     "output_type": "display_data"
    }
   ],
   "source": [
    "shape = widgets.Dropdown(\n",
    "    options=['三角形', '正方形', '圓形'],\n",
    "    value='三角形',\n",
    "    description='請選擇形狀:',\n",
    "    disabled=False,\n",
    ")\n",
    "display(shape)"
   ]
  },
  {
   "cell_type": "code",
   "execution_count": 14,
   "metadata": {},
   "outputs": [],
   "source": [
    "s = shape.value\n",
    "t = Turtle()\n",
    "\n",
    "if s == '三角形':\n",
    "    for i in range(3):\n",
    "        t.forward(50)\n",
    "        t.forward(120)\n",
    "elif s == '正方形':\n",
    "    for i in range(4):\n",
    "        t.forward(50)\n",
    "        t.forward(90)\n",
    "elif s == '圓形':\n",
    "    t.circle(50)"
   ]
  },
  {
   "cell_type": "code",
   "execution_count": null,
   "metadata": {},
   "outputs": [],
   "source": []
  }
 ],
 "metadata": {
  "kernelspec": {
   "display_name": "Python 3",
   "language": "python",
   "name": "python3"
  },
  "language_info": {
   "codemirror_mode": {
    "name": "ipython",
    "version": 3
   },
   "file_extension": ".py",
   "mimetype": "text/x-python",
   "name": "python",
   "nbconvert_exporter": "python",
   "pygments_lexer": "ipython3",
   "version": "3.7.3"
  }
 },
 "nbformat": 4,
 "nbformat_minor": 2
}
