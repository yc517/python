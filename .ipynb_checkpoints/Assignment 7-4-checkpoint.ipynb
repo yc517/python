{
 "cells": [
  {
   "cell_type": "markdown",
   "metadata": {},
   "source": [
    "## 7 - 4 撲克牌比大小\n",
    "### 1) 隨機抽選撲克牌"
   ]
  },
  {
   "cell_type": "code",
   "execution_count": 2,
   "metadata": {},
   "outputs": [],
   "source": [
    "import numpy as np"
   ]
  },
  {
   "cell_type": "code",
   "execution_count": 3,
   "metadata": {},
   "outputs": [],
   "source": [
    "s = [0, 1, 2, 3]\n",
    "r = [14, 2, 3, 4, 5, 6, 7, 8, 9, 10, 11, 12, 13]\n",
    "S = np.random.choice(s)\n",
    "R = np.random.choice(r)\n",
    "\n",
    "#randomly pick a suit\n",
    "if S == 0:\n",
    "    suit_result = '♧'\n",
    "elif S == 1:\n",
    "    suit_result = '♢'\n",
    "elif S == 2:\n",
    "    suit_result = '♡'\n",
    "else:\n",
    "    suit_result = '♤'\n",
    "\n",
    "#randomly pick a rank\n",
    "if R == 14:\n",
    "    rank_result = 'A'\n",
    "elif R == 2:\n",
    "    rank_result = '2'\n",
    "elif R == 3:\n",
    "    rank_result = '3'\n",
    "elif R == 4:\n",
    "    rank_result = '4'\n",
    "elif R == 5:\n",
    "    rank_result = '5'\n",
    "elif R == 6:\n",
    "    rank_result = '6'\n",
    "elif R == 7:\n",
    "    rank_result = '7'\n",
    "elif R == 8:\n",
    "    rank_result = '8'\n",
    "elif R == 9:\n",
    "    rank_result = '9'\n",
    "elif R == 10:\n",
    "    rank_result = '10'\n",
    "elif R == 11:\n",
    "    rank_result = 'J'\n",
    "elif R == 12:\n",
    "    rank_result = 'Q'\n",
    "elif R == 13:\n",
    "    rank_result = 'K'\n",
    "\n",
    "poker_random = suit_result + rank_result"
   ]
  },
  {
   "cell_type": "markdown",
   "metadata": {},
   "source": [
    "### 2) 玩家選擇撲克牌"
   ]
  },
  {
   "cell_type": "code",
   "execution_count": 4,
   "metadata": {},
   "outputs": [],
   "source": [
    "import ipywidgets as widgets\n",
    "from IPython.display import display"
   ]
  },
  {
   "cell_type": "code",
   "execution_count": 5,
   "metadata": {},
   "outputs": [
    {
     "name": "stdout",
     "output_type": "stream",
     "text": [
      "請注意遊戲規則: \n",
      "1) 撲克牌花色依大到小為: 黑桃♤ 紅心♡ 方塊♢ 梅花♧\n",
      "2) 最大數字為A，最小數字為2\n"
     ]
    },
    {
     "data": {
      "application/vnd.jupyter.widget-view+json": {
       "model_id": "1ecc343d8e954779a1e31b2048144ad8",
       "version_major": 2,
       "version_minor": 0
      },
      "text/plain": [
       "Dropdown(description='請選擇花色: ', options=('♧', '♢', '♡', '♤'), value='♧')"
      ]
     },
     "metadata": {},
     "output_type": "display_data"
    },
    {
     "data": {
      "application/vnd.jupyter.widget-view+json": {
       "model_id": "612d8ac53c284cfb9c58b94513d30e16",
       "version_major": 2,
       "version_minor": 0
      },
      "text/plain": [
       "Dropdown(description='請選擇數字: ', options=('A', '2', '3', '4', '5', '6', '7', '8', '9', '10', 'J', 'Q', 'K'), va…"
      ]
     },
     "metadata": {},
     "output_type": "display_data"
    }
   ],
   "source": [
    "print('請注意遊戲規則: ')\n",
    "print('1) 撲克牌花色依大到小為: 黑桃♤ 紅心♡ 方塊♢ 梅花♧')\n",
    "print('2) 最大數字為A，最小數字為2')\n",
    "\n",
    "ham = widgets.Dropdown(\n",
    "    options = ['♧', '♢', '♡', '♤'],\n",
    "    value = '♧',\n",
    "    description = '請選擇花色: ',\n",
    "    disabled = False,\n",
    ")\n",
    "display(ham)\n",
    "\n",
    "egg = widgets.Dropdown(\n",
    "    options = ['A', '2', '3', '4', '5', '6', '7', '8', '9', '10', 'J', 'Q', 'K'],\n",
    "    value = 'A',\n",
    "    description = '請選擇數字: ',\n",
    "    disabled = False,\n",
    ")\n",
    "display(egg)"
   ]
  },
  {
   "cell_type": "code",
   "execution_count": 6,
   "metadata": {},
   "outputs": [
    {
     "name": "stdout",
     "output_type": "stream",
     "text": [
      "您選擇的撲克牌是: ♧A\n"
     ]
    }
   ],
   "source": [
    "#choose suit value\n",
    "if ham.value == '♧':\n",
    "    suit_choose = 0\n",
    "elif ham.value == '♢':\n",
    "    suit_choose = 1\n",
    "elif ham.value == '♡':\n",
    "    suit_choose = 2\n",
    "elif ham.value == '♤':\n",
    "    suit_choose = 3\n",
    "\n",
    "#choose rank value\n",
    "if egg.value == 'A':\n",
    "    rank_choose = 14\n",
    "elif egg.value == '2':\n",
    "    rank_choose = 2\n",
    "elif egg.value == '3':\n",
    "    rank_choose = 3\n",
    "elif egg.value == '4':\n",
    "    rank_choose = 4\n",
    "elif egg.value == '5':\n",
    "    rank_choose = 5\n",
    "elif egg.value == '6':\n",
    "    rank_choose = 6\n",
    "elif egg.value == '7':\n",
    "    rank_choose = 7\n",
    "elif egg.value == '8':\n",
    "    rank_choose = 8\n",
    "elif egg.value == '9':\n",
    "    rank_choose = 9\n",
    "elif egg.value == '10':\n",
    "    rank_choose = 10\n",
    "elif egg.value == 'J':\n",
    "    rank_choose = 11\n",
    "elif egg.value == 'Q':\n",
    "    rank_choose = 12\n",
    "elif egg.value == 'K':\n",
    "    rank_choose = 13\n",
    "    \n",
    "print('您選擇的撲克牌是: ' + ham.value + egg.value)"
   ]
  },
  {
   "cell_type": "markdown",
   "metadata": {},
   "source": [
    "### 3) 比大小"
   ]
  },
  {
   "cell_type": "code",
   "execution_count": 7,
   "metadata": {},
   "outputs": [],
   "source": [
    "import ipywidgets as widgets\n",
    "from IPython.display import display"
   ]
  },
  {
   "cell_type": "code",
   "execution_count": 8,
   "metadata": {},
   "outputs": [
    {
     "data": {
      "application/vnd.jupyter.widget-view+json": {
       "model_id": "a93bf1b754464503b0de5abe3e127ada",
       "version_major": 2,
       "version_minor": 0
      },
      "text/plain": [
       "Dropdown(description='遊戲方式: ', options=('比大', '比小'), value='比大')"
      ]
     },
     "metadata": {},
     "output_type": "display_data"
    }
   ],
   "source": [
    "spam = widgets.Dropdown(\n",
    "    options = ['比大', '比小'],\n",
    "    value = '比大',\n",
    "    description = '遊戲方式: ',\n",
    "    disabled = False,\n",
    ")\n",
    "display(spam)"
   ]
  },
  {
   "cell_type": "code",
   "execution_count": 13,
   "metadata": {},
   "outputs": [
    {
     "name": "stdout",
     "output_type": "stream",
     "text": [
      "您選擇: 比大\n",
      "隨機抽取的撲克牌: ♢3\n",
      "您選擇的撲克牌: ♧A\n",
      "遊戲結果: 恭喜獲勝！！！\n"
     ]
    }
   ],
   "source": [
    "print('您選擇: ' + spam.value)\n",
    "print('隨機抽取的撲克牌: ' + poker_random)\n",
    "print('您選擇的撲克牌: ' + ham.value + egg.value)\n",
    "print('遊戲結果: ', end = '')\n",
    "\n",
    "while(spam.value == '比大'):\n",
    "    if rank_choose > R:\n",
    "        print('恭喜獲勝！！！')\n",
    "    \n",
    "    elif rank_choose == R:\n",
    "        if suit_choose > S:\n",
    "            print('恭喜獲勝！！！')\n",
    "        elif suit_choose == S:\n",
    "            print('平手！')\n",
    "        elif suit_choose < S:\n",
    "            print('輸了嗚嗚嗚嗚')\n",
    "    elif rank_choose < R:\n",
    "        print('輸了嗚嗚嗚嗚')\n",
    "    break\n",
    "\n",
    "while(spam.value == '比小'):\n",
    "    if rank_choose < R:\n",
    "        print('恭喜獲勝！！！')\n",
    "    elif rank_choose == R:\n",
    "        if suit_choose < S:\n",
    "            print('恭喜獲勝！！！')\n",
    "        elif suit_choose == S:\n",
    "            print('平手！')\n",
    "        elif suit_choose > S:\n",
    "            print('輸了嗚嗚嗚嗚')\n",
    "    elif rank_choose > R:\n",
    "        print('輸了嗚嗚嗚嗚')\n",
    "    break"
   ]
  },
  {
   "cell_type": "code",
   "execution_count": null,
   "metadata": {},
   "outputs": [],
   "source": []
  }
 ],
 "metadata": {
  "kernelspec": {
   "display_name": "Python 3",
   "language": "python",
   "name": "python3"
  },
  "language_info": {
   "codemirror_mode": {
    "name": "ipython",
    "version": 3
   },
   "file_extension": ".py",
   "mimetype": "text/x-python",
   "name": "python",
   "nbconvert_exporter": "python",
   "pygments_lexer": "ipython3",
   "version": "3.7.3"
  }
 },
 "nbformat": 4,
 "nbformat_minor": 2
}
