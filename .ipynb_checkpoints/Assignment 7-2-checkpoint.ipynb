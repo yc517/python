{
 "cells": [
  {
   "cell_type": "markdown",
   "metadata": {},
   "source": [
    "## 7 - 2 隨機選撲克牌"
   ]
  },
  {
   "cell_type": "code",
   "execution_count": 4,
   "metadata": {},
   "outputs": [],
   "source": [
    "import numpy as np"
   ]
  },
  {
   "cell_type": "code",
   "execution_count": 5,
   "metadata": {},
   "outputs": [
    {
     "name": "stdout",
     "output_type": "stream",
     "text": [
      "♡5\n"
     ]
    }
   ],
   "source": [
    "s = [0, 1, 2, 3]\n",
    "r = [14, 2, 3, 4, 5, 6, 7, 8, 9, 10, 11, 12, 13]\n",
    "S = np.random.choice(s)\n",
    "R = np.random.choice(r)\n",
    "\n",
    "#randomly pick a suit\n",
    "if S == 0:\n",
    "    suit_result = '♧'\n",
    "elif S == 1:\n",
    "    suit_result = '♢'\n",
    "elif S == 2:\n",
    "    suit_result = '♡'\n",
    "else:\n",
    "    suit_result = '♤'\n",
    "\n",
    "#randomly pick a rank\n",
    "if R == 14:\n",
    "    rank_result = 'A'\n",
    "elif R == 2:\n",
    "    rank_result = '2'\n",
    "elif R == 3:\n",
    "    rank_result = '3'\n",
    "elif R == 4:\n",
    "    rank_result = '4'\n",
    "elif R == 5:\n",
    "    rank_result = '5'\n",
    "elif R == 6:\n",
    "    rank_result = '6'\n",
    "elif R == 7:\n",
    "    rank_result = '7'\n",
    "elif R == 8:\n",
    "    rank_result = '8'\n",
    "elif R == 9:\n",
    "    rank_result = '9'\n",
    "elif R == 10:\n",
    "    rank_result = '10'\n",
    "elif R == 11:\n",
    "    rank_result = 'J'\n",
    "elif R == 12:\n",
    "    rank_result = 'Q'\n",
    "elif R == 13:\n",
    "    rank_result = 'K'\n",
    "\n",
    "poker_random = suit_result + rank_result\n",
    "print(poker_random)"
   ]
  },
  {
   "cell_type": "code",
   "execution_count": null,
   "metadata": {},
   "outputs": [],
   "source": []
  }
 ],
 "metadata": {
  "kernelspec": {
   "display_name": "Python 3",
   "language": "python",
   "name": "python3"
  },
  "language_info": {
   "codemirror_mode": {
    "name": "ipython",
    "version": 3
   },
   "file_extension": ".py",
   "mimetype": "text/x-python",
   "name": "python",
   "nbconvert_exporter": "python",
   "pygments_lexer": "ipython3",
   "version": "3.7.3"
  }
 },
 "nbformat": 4,
 "nbformat_minor": 2
}
