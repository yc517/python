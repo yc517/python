{
 "cells": [
  {
   "cell_type": "markdown",
   "metadata": {},
   "source": [
    "### 判斷閨年\n",
    "\n",
    "閨年：\n",
    "\n",
    "世紀閏年 - 年份能被400整除\n",
    "\n",
    "普通閏年 - 能被4整除但不能被100整除"
   ]
  },
  {
   "cell_type": "code",
   "execution_count": 6,
   "metadata": {},
   "outputs": [
    {
     "name": "stdout",
     "output_type": "stream",
     "text": [
      "請輸入一個年份:2020\n",
      "‎(๑¯∀¯๑)：2020年是閏年ㄛ\n"
     ]
    }
   ],
   "source": [
    "year = int(input(\"請輸入一個年份:\"))\n",
    "if (year % 4) == 0:\n",
    "    if (year % 100) == 0:\n",
    "        if (year % 400) == 0:\n",
    "            print(\"(๑¯∀¯๑)：%s年是閏年ㄛ\" % year)\n",
    "        else:\n",
    "            print(\"(๑•́ ₃ •̀๑)：%s年不是閏年ㄛ\" % year)\n",
    "    else:\n",
    "        print(\"(๑¯∀¯๑)：%s年是閏年ㄛ\" % year)\n",
    "else:\n",
    "    print(\"(๑•́ ₃ •̀๑)：%s年不是閏年ㄛ\" % year)"
   ]
  },
  {
   "cell_type": "code",
   "execution_count": null,
   "metadata": {},
   "outputs": [],
   "source": []
  }
 ],
 "metadata": {
  "kernelspec": {
   "display_name": "Python 3",
   "language": "python",
   "name": "python3"
  },
  "language_info": {
   "codemirror_mode": {
    "name": "ipython",
    "version": 3
   },
   "file_extension": ".py",
   "mimetype": "text/x-python",
   "name": "python",
   "nbconvert_exporter": "python",
   "pygments_lexer": "ipython3",
   "version": "3.7.3"
  }
 },
 "nbformat": 4,
 "nbformat_minor": 2
}
