{
 "cells": [
  {
   "cell_type": "code",
   "execution_count": 9,
   "metadata": {},
   "outputs": [
    {
     "name": "stdout",
     "output_type": "stream",
     "text": [
      "{'bd': ('bd', '-borderwidth'), 'borderwidth': ('borderwidth', 'borderWidth', 'BorderWidth', <pixel object: '0'>, 0), 'class': ('class', 'class', 'Class', 'Toplevel', 'Tk'), 'menu': ('menu', 'menu', 'Menu', '', ''), 'relief': ('relief', 'relief', 'Relief', <index object: 'flat'>, 'flat'), 'screen': ('screen', 'screen', 'Screen', '', ''), 'use': ('use', 'use', 'Use', '', ''), 'background': ('background', 'background', 'Background', <border object: 'SystemButtonFace'>, 'blue'), 'bg': ('bg', '-background'), 'colormap': ('colormap', 'colormap', 'Colormap', '', ''), 'container': ('container', 'container', 'Container', 0, 0), 'cursor': ('cursor', 'cursor', 'Cursor', '', ''), 'height': ('height', 'height', 'Height', <pixel object: '0'>, 800), 'highlightbackground': ('highlightbackground', 'highlightBackground', 'HighlightBackground', <color object: 'SystemButtonFace'>, 'SystemButtonFace'), 'highlightcolor': ('highlightcolor', 'highlightColor', 'HighlightColor', <color object: 'SystemWindowFrame'>, 'SystemWindowFrame'), 'highlightthickness': ('highlightthickness', 'highlightThickness', 'HighlightThickness', <pixel object: '0'>, 0), 'padx': ('padx', 'padX', 'Pad', <pixel object: '0'>, <pixel object: '0'>), 'pady': ('pady', 'padY', 'Pad', <pixel object: '0'>, <pixel object: '0'>), 'takefocus': ('takefocus', 'takeFocus', 'TakeFocus', '0', '0'), 'visual': ('visual', 'visual', 'Visual', '', ''), 'width': ('width', 'width', 'Width', <pixel object: '0'>, 800)}\n"
     ]
    }
   ],
   "source": [
    "import tkinter as tk\n",
    "window = tk.Tk()\n",
    "window.title('test')\n",
    "window.config(background = 'blue', width = '800', height = '800')\n",
    "print(window.config())\n",
    "window.mainloop()"
   ]
  },
  {
   "cell_type": "code",
   "execution_count": 11,
   "metadata": {},
   "outputs": [],
   "source": [
    "import tkinter as tk\n",
    "window = tk.Tk()\n",
    "lbl = tk.Label(window, text = 'Hello!', font =('Times', 50))\n",
    "lbl.pack()\n",
    "window.mainloop()"
   ]
  },
  {
   "cell_type": "code",
   "execution_count": 12,
   "metadata": {},
   "outputs": [],
   "source": [
    "import tkinter as tk\n",
    "\n",
    "def window_quit():\n",
    "    window.destroy()\n",
    "\n",
    "window = tk.Tk()\n",
    "lbl = tk.Label(window, text = 'Hello!')\n",
    "lbl.pack()\n",
    "btn = tk.Button(window, text = 'Close', command = window_quit)\n",
    "btn.pack()\n",
    "window.mainloop()"
   ]
  },
  {
   "cell_type": "code",
   "execution_count": 1,
   "metadata": {},
   "outputs": [],
   "source": [
    "import tkinter as tk\n",
    "\n",
    "def window_cal():\n",
    "    r = round(float(weightVar.get())/(float(heightVar.get())/100)**2, 2)\n",
    "    result.config(text = r)\n",
    "    \n",
    "window = tk.Tk()\n",
    "\n",
    "result = tk.Label(window, text = 'Weight')\n",
    "result.pack()\n",
    "\n",
    "#for weight\n",
    "frame = tk.Frame(window)\n",
    "frame.pack()\n",
    "\n",
    "weightVar = tk.StringVar()\n",
    "weightVar.set('60')\n",
    "\n",
    "lbl = tk.Label(frame, text = 'Weight')\n",
    "lbl.pack(side = 'left')\n",
    "entry = tk.Entry(frame, textvariable = weightVar)\n",
    "entry.pack(side = 'top')\n",
    "\n",
    "#for height\n",
    "frame2 = tk.Frame(window)\n",
    "frame2.pack()\n",
    "\n",
    "heightVar = tk.StringVar()\n",
    "\n",
    "lbl2 = tk.Label(frame2, text = 'Height')\n",
    "lbl2.pack(side = 'left')\n",
    "entry2 = tk.Entry(frame2, textvariable = heightVar)\n",
    "entry2.pack(side = 'top')\n",
    "\n",
    "#botton -> run result\n",
    "btn = tk.Button(window, text = 'GO', command = window_cal)\n",
    "# 建立事件處理函式（event handler），透過元件 command 參數存取\n",
    "btn.pack(side = 'bottom')\n",
    "window.mainloop()"
   ]
  },
  {
   "cell_type": "code",
   "execution_count": 18,
   "metadata": {},
   "outputs": [
    {
     "ename": "AttributeError",
     "evalue": "module 'tkinter' has no attribute 'checkbutton'",
     "output_type": "error",
     "traceback": [
      "\u001b[1;31m---------------------------------------------------------------------------\u001b[0m",
      "\u001b[1;31mAttributeError\u001b[0m                            Traceback (most recent call last)",
      "\u001b[1;32m<ipython-input-18-1860285a16b8>\u001b[0m in \u001b[0;36m<module>\u001b[1;34m\u001b[0m\n\u001b[0;32m      9\u001b[0m \u001b[1;33m\u001b[0m\u001b[0m\n\u001b[0;32m     10\u001b[0m \u001b[0mchkVar\u001b[0m \u001b[1;33m=\u001b[0m \u001b[0mtk\u001b[0m\u001b[1;33m.\u001b[0m\u001b[0mIntVar\u001b[0m\u001b[1;33m(\u001b[0m\u001b[1;33m)\u001b[0m\u001b[1;33m\u001b[0m\u001b[1;33m\u001b[0m\u001b[0m\n\u001b[1;32m---> 11\u001b[1;33m chkBtn = tk.checkbutton(window, text = 'haha', variable = chkVar,\n\u001b[0m\u001b[0;32m     12\u001b[0m                        onvalue = 1)\n\u001b[0;32m     13\u001b[0m \u001b[0mckkBtn\u001b[0m\u001b[1;33m.\u001b[0m\u001b[0mpack\u001b[0m\u001b[1;33m(\u001b[0m\u001b[1;33m)\u001b[0m\u001b[1;33m\u001b[0m\u001b[1;33m\u001b[0m\u001b[0m\n",
      "\u001b[1;31mAttributeError\u001b[0m: module 'tkinter' has no attribute 'checkbutton'"
     ]
    }
   ],
   "source": [
    "import tkinter as tk\n",
    "\n",
    "def window_quit():\n",
    "    window.destroy()\n",
    "\n",
    "window = tk.Tk()\n",
    "lbl = tk.Label(window, text = 'Hello!')\n",
    "lbl.pack()\n",
    "\n",
    "chkVar = tk.IntVar()\n",
    "chkBtn = tk.checkbutton(window, text = 'haha', variable = chkVar,\n",
    "                       onvalue = 1)\n",
    "ckkBtn.pack()\n",
    "\n",
    "btn = tk.Button(window, text = 'Close', command = window_quit)\n",
    "btn.pack()\n",
    "\n",
    "window.mainloop()"
   ]
  },
  {
   "cell_type": "code",
   "execution_count": null,
   "metadata": {},
   "outputs": [],
   "source": []
  }
 ],
 "metadata": {
  "kernelspec": {
   "display_name": "Python 3",
   "language": "python",
   "name": "python3"
  },
  "language_info": {
   "codemirror_mode": {
    "name": "ipython",
    "version": 3
   },
   "file_extension": ".py",
   "mimetype": "text/x-python",
   "name": "python",
   "nbconvert_exporter": "python",
   "pygments_lexer": "ipython3",
   "version": "3.7.3"
  }
 },
 "nbformat": 4,
 "nbformat_minor": 2
}
