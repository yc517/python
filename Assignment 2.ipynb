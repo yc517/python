{
 "cells": [
  {
   "cell_type": "code",
   "execution_count": 1,
   "metadata": {},
   "outputs": [],
   "source": [
    "from IPython.display import Image\n",
    "from ipywidgets import interact\n",
    "tp = Image(url = \"https://res.klook.com/images/fl_lossy.progressive,q_65/c_fill,w_1200,h_630,f_auto/w_80,x_15,y_15,g_south_west,l_klook_water/activities/vxcjhqicqpoah4moqiok/%E5%8F%B0%E5%8C%97101%E8%A7%80%E6%99%AF%E5%8F%B0%E9%96%80%E7%A5%A8.jpg\")\n",
    "tc = Image(url = \"https://1.bp.blogspot.com/-uI0AzUy0JOQ/V8Uo30FQRCI/AAAAAAAAih0/CCOT4fFLZVMorCv9xqB9IycJZElloqcIACPcB/s1600/DSC_8987-2.jpg\")\n",
    "tn = Image(url = \"https://res.klook.com/images/fl_lossy.progressive,q_65/c_fill,w_1295,h_720,f_auto/w_80,x_15,y_15,g_south_west,l_klook_water/activities/ekiqpibpk36afbldzxiq/%E5%8F%B0%E5%8D%97%E5%A5%87%E7%BE%8E%E5%8D%9A%E7%89%A9%E9%A4%A8%E5%B8%B8%E8%A8%AD%E5%B1%95%E7%89%B9%E5%B1%95%E9%96%80%E7%A5%A8.jpg\")"
   ]
  },
  {
   "cell_type": "code",
   "execution_count": 2,
   "metadata": {},
   "outputs": [
    {
     "data": {
      "application/vnd.jupyter.widget-view+json": {
       "model_id": "424ec8a3df7d415cbb0d1185d9424508",
       "version_major": 2,
       "version_minor": 0
      },
      "text/plain": [
       "interactive(children=(Dropdown(description='x', options=('台北', '台中', '台南'), value='台北'), Output()), _dom_class…"
      ]
     },
     "metadata": {},
     "output_type": "display_data"
    }
   ],
   "source": [
    "def getValue(x):\n",
    "    return x\n",
    "\n",
    "def travel(x):\n",
    "    ham = getValue(x)\n",
    "    print(\"(๑´ㅁ`)：我想去\" + ham)\n",
    "    if(ham == \"台北\"):\n",
    "        print(\"(*´∀`)~♥：推薦你去台北101\")\n",
    "        display(tp)\n",
    "    elif(ham == \"台中\"):\n",
    "        print(\"(*´∀`)~♥：推薦你去台中歌劇院\")\n",
    "        display(tc)\n",
    "    elif(ham == \"台南\"):\n",
    "        print(\"(*´∀`)~♥：推薦你去奇美博物館\")\n",
    "        display(tn)\n",
    "interact(travel, x = [\"台北\", \"台中\", \"台南\"]);\n"
   ]
  },
  {
   "cell_type": "code",
   "execution_count": 3,
   "metadata": {},
   "outputs": [],
   "source": [
    "import random"
   ]
  },
  {
   "cell_type": "code",
   "execution_count": 4,
   "metadata": {},
   "outputs": [],
   "source": [
    "joke1 = '有個嘻哈歌手很困擾，\\n他去買水果一直買不到葡萄，\\n因為他每次都跟老闆說，\\n♪(´∇`*)：老闆我要葡萄yo'\n",
    "joke2 = '在海底世界裡，\\n一群小魚、小蝦、螃蟹等等海洋生物在考試，\\n大家都很認真寫考卷，\\n突然老師發現小蝦在作弊\\n老師(-`д´-)：說！你抄誰的！！\\n小蝦(๑•́ ₃ •̀๑)：我我我我抄蚌的！'\n",
    "joke3 = '為什麼模範生特別容易被綁架？\\n因為他們一臉好綁樣\\n模範生：(ಠ－ಠ)'\n",
    "L=[1,2,3]"
   ]
  },
  {
   "cell_type": "code",
   "execution_count": 5,
   "metadata": {},
   "outputs": [],
   "source": [
    "def pipi():\n",
    "    egg = input(\">(☍﹏⁰。)：\")\n",
    "    print(\"(*´∀`)~♥：拍拍！別難過，講一個笑話給你聽\\n----------\")\n",
    "    result = random.choice(L)\n",
    "    if(result==1):\n",
    "        print(joke1)\n",
    "    elif(result==2):\n",
    "        print(joke2)\n",
    "    else:\n",
    "        print(joke3);"
   ]
  },
  {
   "cell_type": "code",
   "execution_count": 6,
   "metadata": {},
   "outputs": [
    {
     "name": "stdout",
     "output_type": "stream",
     "text": [
      ">(☍﹏⁰。)：QQQ\n",
      "(*´∀`)~♥：拍拍！別難過，講一個笑話給你聽\n",
      "----------\n",
      "在海底世界裡，\n",
      "一群小魚、小蝦、螃蟹等等海洋生物在考試，\n",
      "大家都很認真寫考卷，\n",
      "突然老師發現小蝦在作弊\n",
      "老師(-`д´-)：說！你抄誰的！！\n",
      "小蝦(๑•́ ₃ •̀๑)：我我我我抄蚌的！\n"
     ]
    }
   ],
   "source": [
    "pipi()"
   ]
  },
  {
   "cell_type": "code",
   "execution_count": null,
   "metadata": {},
   "outputs": [],
   "source": []
  }
 ],
 "metadata": {
  "kernelspec": {
   "display_name": "Python 3",
   "language": "python",
   "name": "python3"
  },
  "language_info": {
   "codemirror_mode": {
    "name": "ipython",
    "version": 3
   },
   "file_extension": ".py",
   "mimetype": "text/x-python",
   "name": "python",
   "nbconvert_exporter": "python",
   "pygments_lexer": "ipython3",
   "version": "3.7.3"
  }
 },
 "nbformat": 4,
 "nbformat_minor": 2
}
