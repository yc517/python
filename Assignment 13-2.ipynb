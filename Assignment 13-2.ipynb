{
 "cells": [
  {
   "cell_type": "markdown",
   "metadata": {},
   "source": [
    "### 簡易計算機"
   ]
  },
  {
   "cell_type": "code",
   "execution_count": 3,
   "metadata": {},
   "outputs": [],
   "source": [
    "import tkinter as tk"
   ]
  },
  {
   "cell_type": "code",
   "execution_count": 12,
   "metadata": {},
   "outputs": [
    {
     "name": "stderr",
     "output_type": "stream",
     "text": [
      "Exception in Tkinter callback\n",
      "Traceback (most recent call last):\n",
      "  File \"C:\\Users\\usernb\\Anaconda3\\lib\\tkinter\\__init__.py\", line 1705, in __call__\n",
      "    return self.func(*args)\n",
      "  File \"<ipython-input-12-fd2420d60e4b>\", line 3, in cal\n",
      "    result = \"結果：\" + str(eval(exp))\n",
      "  File \"<string>\", line 1\n",
      "    +\n",
      "    ^\n",
      "SyntaxError: unexpected EOF while parsing\n"
     ]
    }
   ],
   "source": [
    "def cal():\n",
    "    exp = firstNum.get() + operation[var.get()] + secondNum.get()\n",
    "    result = \"結果：\" + str(eval(exp))\n",
    "    resultNumLabel.config(text = result)\n",
    "\n",
    "mainWin = tk.Tk()\n",
    "var = tk.IntVar()\n",
    "operation = [ '+', '-', '*', '/']\n",
    "\n",
    "# 視窗標題\n",
    "mainWin.title(\"Calculator\")\n",
    "# 視窗大小\n",
    "mainWin.geometry(\"480x140\")\n",
    "\n",
    "# 建立標籤\n",
    "firstNumLabel = tk.Label(mainWin, text=\"數字1\")\n",
    "secondNumLabel = tk.Label(mainWin, text=\"數字2\")\n",
    "resultNumLabel = tk.Label(mainWin, text=\"結果：\")\n",
    "\n",
    "# 建立文字方塊\n",
    "firstNum = tk.Entry(mainWin, text=\"Num1\")\n",
    "secondNum = tk.Entry(mainWin, text=\"Num2\")\n",
    "\n",
    "# 建立單選按鈕\n",
    "plusBtn = tk.Radiobutton(mainWin, text=\"+\", variable=var, value=0)\n",
    "minusBtn = tk.Radiobutton(mainWin, text=\"-\", variable=var, value=1)\n",
    "multiplyBtn = tk.Radiobutton(mainWin, text=\"*\", variable=var, value=2)\n",
    "divideBtn = tk.Radiobutton(mainWin, text=\"/\", variable=var, value=3)\n",
    "\n",
    "#計算按鈕\n",
    "calBtn = tk.Button(mainWin, text='GO', command = cal)\n",
    "\n",
    "# 利用grid排版\n",
    "firstNumLabel.grid(row=1,column=0)\n",
    "secondNumLabel.grid(row=1,column=3)\n",
    "resultNumLabel.grid(row=4,column=4)\n",
    "firstNum.grid(row=1,column=1)\n",
    "secondNum.grid(row=1,column=4)\n",
    "plusBtn.grid(row=0,column=2)\n",
    "minusBtn.grid(row=1,column=2)\n",
    "multiplyBtn.grid(row=2,column=2)\n",
    "divideBtn.grid(row=3,column=2)\n",
    "calBtn.grid(row = 4, column = 3)\n",
    "\n",
    "mainWin.mainloop()"
   ]
  },
  {
   "cell_type": "code",
   "execution_count": null,
   "metadata": {},
   "outputs": [],
   "source": []
  }
 ],
 "metadata": {
  "kernelspec": {
   "display_name": "Python 3",
   "language": "python",
   "name": "python3"
  },
  "language_info": {
   "codemirror_mode": {
    "name": "ipython",
    "version": 3
   },
   "file_extension": ".py",
   "mimetype": "text/x-python",
   "name": "python",
   "nbconvert_exporter": "python",
   "pygments_lexer": "ipython3",
   "version": "3.7.3"
  }
 },
 "nbformat": 4,
 "nbformat_minor": 2
}
