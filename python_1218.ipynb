{
 "cells": [
  {
   "cell_type": "markdown",
   "metadata": {},
   "source": [
    "### Python網頁框架\n",
    "- Django 大型專案\n",
    "- Flask 小巧"
   ]
  },
  {
   "cell_type": "code",
   "execution_count": 10,
   "metadata": {},
   "outputs": [
    {
     "name": "stdout",
     "output_type": "stream",
     "text": [
      "Requirement already satisfied: streamlit in c:\\users\\usernb\\anaconda3\\lib\\site-packages (0.51.0)\n",
      "Requirement already satisfied: requests in c:\\users\\usernb\\anaconda3\\lib\\site-packages (from streamlit) (2.22.0)\n",
      "Requirement already satisfied: pandas>=0.21.0 in c:\\users\\usernb\\anaconda3\\lib\\site-packages (from streamlit) (0.24.2)\n",
      "Requirement already satisfied: altair>=3.2.0 in c:\\users\\usernb\\anaconda3\\lib\\site-packages (from streamlit) (4.0.0)\n",
      "Requirement already satisfied: base58 in c:\\users\\usernb\\anaconda3\\lib\\site-packages (from streamlit) (1.0.3)\n",
      "Requirement already satisfied: protobuf>=3.6.0 in c:\\users\\usernb\\anaconda3\\lib\\site-packages (from streamlit) (3.11.1)\n",
      "Requirement already satisfied: click>=7.0 in c:\\users\\usernb\\anaconda3\\lib\\site-packages (from streamlit) (7.0)\n",
      "Requirement already satisfied: astor in c:\\users\\usernb\\anaconda3\\lib\\site-packages (from streamlit) (0.8.1)\n",
      "Requirement already satisfied: future in c:\\users\\usernb\\anaconda3\\lib\\site-packages (from streamlit) (0.17.1)\n",
      "Requirement already satisfied: botocore in c:\\users\\usernb\\anaconda3\\lib\\site-packages (from streamlit) (1.13.41)\n",
      "Requirement already satisfied: enum-compat in c:\\users\\usernb\\anaconda3\\lib\\site-packages (from streamlit) (0.0.3)\n",
      "Requirement already satisfied: pillow>=6.2.0 in c:\\users\\usernb\\anaconda3\\lib\\site-packages (from streamlit) (6.2.1)\n",
      "Requirement already satisfied: tornado<6.0,>=5.0 in c:\\users\\usernb\\anaconda3\\lib\\site-packages (from streamlit) (5.1.1)\n",
      "Requirement already satisfied: validators in c:\\users\\usernb\\anaconda3\\lib\\site-packages (from streamlit) (0.14.1)\n",
      "Requirement already satisfied: watchdog in c:\\users\\usernb\\anaconda3\\lib\\site-packages (from streamlit) (0.9.0)\n",
      "Requirement already satisfied: boto3 in c:\\users\\usernb\\anaconda3\\lib\\site-packages (from streamlit) (1.10.41)\n",
      "Requirement already satisfied: numpy in c:\\users\\usernb\\anaconda3\\lib\\site-packages (from streamlit) (1.16.4)\n",
      "Requirement already satisfied: toml in c:\\users\\usernb\\anaconda3\\lib\\site-packages (from streamlit) (0.10.0)\n",
      "Requirement already satisfied: blinker in c:\\users\\usernb\\anaconda3\\lib\\site-packages (from streamlit) (1.4)\n",
      "Requirement already satisfied: tzlocal in c:\\users\\usernb\\anaconda3\\lib\\site-packages (from streamlit) (2.0.0)\n",
      "Requirement already satisfied: urllib3!=1.25.0,!=1.25.1,<1.26,>=1.21.1 in c:\\users\\usernb\\anaconda3\\lib\\site-packages (from requests->streamlit) (1.24.2)\n",
      "Requirement already satisfied: idna<2.9,>=2.5 in c:\\users\\usernb\\anaconda3\\lib\\site-packages (from requests->streamlit) (2.8)\n",
      "Requirement already satisfied: chardet<3.1.0,>=3.0.2 in c:\\users\\usernb\\anaconda3\\lib\\site-packages (from requests->streamlit) (3.0.4)\n",
      "Requirement already satisfied: certifi>=2017.4.17 in c:\\users\\usernb\\anaconda3\\lib\\site-packages (from requests->streamlit) (2019.6.16)\n",
      "Requirement already satisfied: python-dateutil>=2.5.0 in c:\\users\\usernb\\anaconda3\\lib\\site-packages (from pandas>=0.21.0->streamlit) (2.8.0)\n",
      "Requirement already satisfied: pytz>=2011k in c:\\users\\usernb\\anaconda3\\lib\\site-packages (from pandas>=0.21.0->streamlit) (2019.1)\n",
      "Requirement already satisfied: toolz in c:\\users\\usernb\\anaconda3\\lib\\site-packages (from altair>=3.2.0->streamlit) (0.10.0)\n",
      "Requirement already satisfied: entrypoints in c:\\users\\usernb\\anaconda3\\lib\\site-packages (from altair>=3.2.0->streamlit) (0.3)\n",
      "Requirement already satisfied: jsonschema in c:\\users\\usernb\\anaconda3\\lib\\site-packages (from altair>=3.2.0->streamlit) (3.0.1)\n",
      "Requirement already satisfied: jinja2 in c:\\users\\usernb\\anaconda3\\lib\\site-packages (from altair>=3.2.0->streamlit) (2.10.1)\n",
      "Requirement already satisfied: six>=1.9 in c:\\users\\usernb\\anaconda3\\lib\\site-packages (from protobuf>=3.6.0->streamlit) (1.12.0)\n",
      "Requirement already satisfied: setuptools in c:\\users\\usernb\\anaconda3\\lib\\site-packages (from protobuf>=3.6.0->streamlit) (41.0.1)\n",
      "Requirement already satisfied: docutils<0.16,>=0.10 in c:\\users\\usernb\\anaconda3\\lib\\site-packages (from botocore->streamlit) (0.14)\n",
      "Requirement already satisfied: jmespath<1.0.0,>=0.7.1 in c:\\users\\usernb\\anaconda3\\lib\\site-packages (from botocore->streamlit) (0.9.4)\n",
      "Requirement already satisfied: decorator>=3.4.0 in c:\\users\\usernb\\anaconda3\\lib\\site-packages (from validators->streamlit) (4.4.0)\n",
      "Requirement already satisfied: argh>=0.24.1 in c:\\users\\usernb\\anaconda3\\lib\\site-packages (from watchdog->streamlit) (0.26.2)\n",
      "Requirement already satisfied: pathtools>=0.1.1 in c:\\users\\usernb\\anaconda3\\lib\\site-packages (from watchdog->streamlit) (0.1.2)\n",
      "Requirement already satisfied: PyYAML>=3.10 in c:\\users\\usernb\\anaconda3\\lib\\site-packages (from watchdog->streamlit) (5.1.1)\n",
      "Requirement already satisfied: s3transfer<0.3.0,>=0.2.0 in c:\\users\\usernb\\anaconda3\\lib\\site-packages (from boto3->streamlit) (0.2.1)\n",
      "Requirement already satisfied: attrs>=17.4.0 in c:\\users\\usernb\\anaconda3\\lib\\site-packages (from jsonschema->altair>=3.2.0->streamlit) (19.1.0)\n",
      "Requirement already satisfied: pyrsistent>=0.14.0 in c:\\users\\usernb\\anaconda3\\lib\\site-packages (from jsonschema->altair>=3.2.0->streamlit) (0.14.11)\n",
      "Requirement already satisfied: MarkupSafe>=0.23 in c:\\users\\usernb\\anaconda3\\lib\\site-packages (from jinja2->altair>=3.2.0->streamlit) (1.1.1)\n"
     ]
    }
   ],
   "source": [
    "!pip install streamlit"
   ]
  },
  {
   "cell_type": "code",
   "execution_count": 11,
   "metadata": {},
   "outputs": [
    {
     "name": "stdout",
     "output_type": "stream",
     "text": [
      "Overwriting web01.py\n"
     ]
    }
   ],
   "source": [
    "%%writefile web01.py\n",
    "import pandas as pd\n",
    "\n",
    "df = pd.DataFrame({\"A\": [3, 9, 8],\n",
    "                  \"B\": [9, 4, 7]})"
   ]
  },
  {
   "cell_type": "code",
   "execution_count": 12,
   "metadata": {},
   "outputs": [
    {
     "name": "stdout",
     "output_type": "stream",
     "text": [
      " 磁碟區 C 中的磁碟是 Acer\n",
      " 磁碟區序號:  ACD1-C124\n",
      "\n",
      " C:\\Users\\usernb\\Desktop\\python 的目錄\n",
      "\n",
      "2019/12/18  上午 11:09    <DIR>          .\n",
      "2019/12/18  上午 11:09    <DIR>          ..\n",
      "2019/12/18  上午 10:52    <DIR>          .ipynb_checkpoints\n",
      "2019/11/26  下午 11:29           195,479 Assignment 10-1.ipynb\n",
      "2019/11/26  下午 11:49             1,625 Assignment 10-2.ipynb\n",
      "2019/11/27  上午 12:15             3,618 Assignment 10-3.ipynb\n",
      "2019/11/27  上午 12:44             2,139 Assignment 10-4.ipynb\n",
      "2019/11/26  下午 09:20            55,954 Assignment 11-1.ipynb\n",
      "2019/11/26  下午 09:44            14,022 Assignment 11-2.ipynb\n",
      "2019/11/26  下午 11:11            54,971 Assignment 11-3.ipynb\n",
      "2019/11/26  下午 11:15            32,150 Assignment 11-4.ipynb\n",
      "2019/12/03  上午 12:49           103,682 Assignment 12-1.ipynb\n",
      "2019/12/03  下午 10:36           121,604 Assignment 12-2.ipynb\n",
      "2019/12/03  下午 10:51             5,357 Assignment 12-3.ipynb\n",
      "2019/12/03  下午 11:29            32,399 Assignment 12-4.ipynb\n",
      "2019/12/05  上午 12:43             2,640 Assignment 13-1.ipynb\n",
      "2019/12/06  上午 12:00             3,235 Assignment 13-2.ipynb\n",
      "2019/12/06  下午 10:11             5,183 Assignment 13-3.ipynb\n",
      "2019/12/07  下午 03:03             3,176 Assignment 13-4.ipynb\n",
      "2019/12/07  下午 01:18             4,647 Assignment 2.ipynb\n",
      "2019/12/16  下午 01:50             4,915 Assignment 4.ipynb\n",
      "2019/10/29  下午 10:44             6,028 Assignment 6.ipynb\n",
      "2019/10/19  下午 11:35             3,977 Assignment 7-1.ipynb\n",
      "2019/10/19  上午 12:40             2,248 Assignment 7-2.ipynb\n",
      "2019/10/19  上午 12:41             3,614 Assignment 7-3.ipynb\n",
      "2019/10/19  上午 12:58             8,433 Assignment 7-4.ipynb\n",
      "2019/10/29  下午 11:11             4,813 Assignment 8-1.ipynb\n",
      "2019/10/29  下午 11:28             1,757 Assignment 8-2.ipynb\n",
      "2019/10/29  下午 11:46             2,337 Assignment 8-3.ipynb\n",
      "2019/10/30  上午 12:17             2,346 Assignment 8-4.ipynb\n",
      "2019/11/12  下午 11:50            53,790 Assignment 9-1.ipynb\n",
      "2019/11/12  下午 11:50            82,521 Assignment 9-2.ipynb\n",
      "2019/11/12  下午 11:50            42,023 Assignment 9-3.ipynb\n",
      "2019/11/12  下午 11:50            41,534 Assignment 9-4.ipynb\n",
      "2018/08/27  下午 05:47            49,419 dog.png\n",
      "2019/12/16  下午 01:53         1,247,184 Final.ipynb\n",
      "2019/10/16  上午 10:43                41 mydic.csv\n",
      "2019/10/16  上午 10:57                85 mydic.pickle\n",
      "2019/10/02  下午 12:03               500 poem.py\n",
      "2019/09/12  下午 11:41            31,276 python_0911.ipynb\n",
      "2019/11/06  下午 12:52           100,237 python_0918_interact&list.ipynb\n",
      "2019/11/06  下午 12:53            18,836 python_0925 & assignment3.ipynb\n",
      "2019/11/06  下午 12:52             4,725 python_1002_poem.ipynb\n",
      "2019/10/09  下午 12:02           131,386 python_1009.ipynb\n",
      "2019/10/18  上午 01:09            26,516 python_1016.ipynb\n",
      "2019/10/24  下午 03:19           187,263 python_1023.ipynb\n",
      "2019/10/30  上午 11:51           300,576 python_1030.ipynb\n",
      "2019/12/15  下午 05:23           232,280 python_1113_ML_LinearRegression.ipynb\n",
      "2019/11/25  上午 12:14           239,150 python_1120_ML_SVM.ipynb\n",
      "2019/11/30  上午 10:46           421,775 python_1127_ML_KMeans.ipynb\n",
      "2019/12/07  下午 02:09             6,425 python_1204_tkinter.ipynb\n",
      "2019/12/18  上午 11:09             6,364 python_1218.ipynb\n",
      "2019/10/05  上午 01:23                28 README.md\n",
      "2019/10/16  上午 11:25                36 text.txt\n",
      "2019/12/18  上午 11:10                95 web01.py\n",
      "              52 個檔案       3,906,414 位元組\n",
      "               3 個目錄  13,302,050,816 位元組可用\n"
     ]
    }
   ],
   "source": [
    "%ls"
   ]
  },
  {
   "cell_type": "code",
   "execution_count": 13,
   "metadata": {},
   "outputs": [
    {
     "name": "stderr",
     "output_type": "stream",
     "text": [
      "'cp950' codec can't encode character '\\U0001f44b' in position 4: illegal multibyte sequence\n"
     ]
    }
   ],
   "source": [
    "!streamlit run web01.py"
   ]
  },
  {
   "cell_type": "code",
   "execution_count": null,
   "metadata": {},
   "outputs": [],
   "source": []
  },
  {
   "cell_type": "code",
   "execution_count": null,
   "metadata": {},
   "outputs": [],
   "source": []
  },
  {
   "cell_type": "code",
   "execution_count": null,
   "metadata": {},
   "outputs": [],
   "source": []
  }
 ],
 "metadata": {
  "kernelspec": {
   "display_name": "Python 3",
   "language": "python",
   "name": "python3"
  },
  "language_info": {
   "codemirror_mode": {
    "name": "ipython",
    "version": 3
   },
   "file_extension": ".py",
   "mimetype": "text/x-python",
   "name": "python",
   "nbconvert_exporter": "python",
   "pygments_lexer": "ipython3",
   "version": "3.7.3"
  }
 },
 "nbformat": 4,
 "nbformat_minor": 2
}
