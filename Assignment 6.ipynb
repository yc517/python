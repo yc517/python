{
 "cells": [
  {
   "cell_type": "code",
   "execution_count": 17,
   "metadata": {},
   "outputs": [],
   "source": [
    "from IPython.display import Image, YouTubeVideo\n",
    "from ipywidgets import interact\n",
    "tp = Image(url = \"https://res.klook.com/images/fl_lossy.progressive,q_65/c_fill,w_1200,h_630,f_auto/w_80,x_15,y_15,g_south_west,l_klook_water/activities/vxcjhqicqpoah4moqiok/%E5%8F%B0%E5%8C%97101%E8%A7%80%E6%99%AF%E5%8F%B0%E9%96%80%E7%A5%A8.jpg\")\n",
    "tc = Image(url = \"https://1.bp.blogspot.com/-uI0AzUy0JOQ/V8Uo30FQRCI/AAAAAAAAih0/CCOT4fFLZVMorCv9xqB9IycJZElloqcIACPcB/s1600/DSC_8987-2.jpg\")\n",
    "tn = Image(url = \"https://res.klook.com/images/fl_lossy.progressive,q_65/c_fill,w_1295,h_720,f_auto/w_80,x_15,y_15,g_south_west,l_klook_water/activities/ekiqpibpk36afbldzxiq/%E5%8F%B0%E5%8D%97%E5%A5%87%E7%BE%8E%E5%8D%9A%E7%89%A9%E9%A4%A8%E5%B8%B8%E8%A8%AD%E5%B1%95%E7%89%B9%E5%B1%95%E9%96%80%E7%A5%A8.jpg\")\n",
    "\n",
    "tpV = YouTubeVideo('KBqHnL5intg')\n",
    "tcV = YouTubeVideo('bKf4g4ixNvk')\n",
    "tnV = YouTubeVideo('Kp5uOXyNRuE')"
   ]
  },
  {
   "cell_type": "code",
   "execution_count": 18,
   "metadata": {},
   "outputs": [
    {
     "data": {
      "application/vnd.jupyter.widget-view+json": {
       "model_id": "6e4a85bcc0eb4f7aba2cfa565c82c65e",
       "version_major": 2,
       "version_minor": 0
      },
      "text/plain": [
       "interactive(children=(Dropdown(description='x', options=('台北', '台中', '台南'), value='台北'), Output()), _dom_class…"
      ]
     },
     "metadata": {},
     "output_type": "display_data"
    }
   ],
   "source": [
    "def getValue(x):\n",
    "    return x\n",
    "\n",
    "def travel(x):\n",
    "    ham = getValue(x)\n",
    "    print(\"(๑´ㅁ`)：我想去\" + ham)\n",
    "    if(ham == \"台北\"):\n",
    "        print(\"(*´∀`)~♥：推薦你去台北101\")\n",
    "        display(tpV)\n",
    "        display(tp)\n",
    "    elif(ham == \"台中\"):\n",
    "        print(\"(*´∀`)~♥：推薦你去台中歌劇院\")\n",
    "        display(tcV)\n",
    "        display(tc)\n",
    "    elif(ham == \"台南\"):\n",
    "        print(\"(*´∀`)~♥：推薦你去奇美博物館\")\n",
    "        display(tnV)\n",
    "        display(tn)\n",
    "interact(travel, x = [\"台北\", \"台中\", \"台南\"]);"
   ]
  },
  {
   "cell_type": "code",
   "execution_count": null,
   "metadata": {},
   "outputs": [],
   "source": []
  }
 ],
 "metadata": {
  "kernelspec": {
   "display_name": "Python 3",
   "language": "python",
   "name": "python3"
  },
  "language_info": {
   "codemirror_mode": {
    "name": "ipython",
    "version": 3
   },
   "file_extension": ".py",
   "mimetype": "text/x-python",
   "name": "python",
   "nbconvert_exporter": "python",
   "pygments_lexer": "ipython3",
   "version": "3.7.3"
  }
 },
 "nbformat": 4,
 "nbformat_minor": 2
}
