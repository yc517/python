{
 "cells": [
  {
   "cell_type": "markdown",
   "metadata": {},
   "source": [
    "## GPA轉換"
   ]
  },
  {
   "cell_type": "code",
   "execution_count": 9,
   "metadata": {},
   "outputs": [],
   "source": [
    "import ipywidgets as widgets\n",
    "from IPython.display import display\n",
    "from ipywidgets import interact"
   ]
  },
  {
   "cell_type": "code",
   "execution_count": 8,
   "metadata": {},
   "outputs": [
    {
     "data": {
      "application/vnd.jupyter.widget-view+json": {
       "model_id": "ca424bc17c5f49a7a36ef2da6931eaff",
       "version_major": 2,
       "version_minor": 0
      },
      "text/plain": [
       "Dropdown(description='分數計算方式:', options=('分數區間 ( 如100 - 90 )', '等第 ( 如 A+ )'), value='分數區間 ( 如100 - 90 )')"
      ]
     },
     "metadata": {},
     "output_type": "display_data"
    }
   ],
   "source": [
    "mode = widgets.Dropdown(\n",
    "    options=['分數區間 ( 如100 - 90 )', '等第 ( 如 A+ )'],\n",
    "    description='分數計算方式:',\n",
    "    disabled=False,\n",
    ")\n",
    "display(mode)"
   ]
  },
  {
   "cell_type": "code",
   "execution_count": 20,
   "metadata": {},
   "outputs": [
    {
     "name": "stdout",
     "output_type": "stream",
     "text": [
      "請選擇成績：\n"
     ]
    },
    {
     "data": {
      "application/vnd.jupyter.widget-view+json": {
       "model_id": "7c7e5853cba74ce285db8062a1f9dc33",
       "version_major": 2,
       "version_minor": 0
      },
      "text/plain": [
       "interactive(children=(Dropdown(description='x', options={'100 - 90': 1, '89 - 85': 2, '84 - 80': 3, '79 - 77':…"
      ]
     },
     "metadata": {},
     "output_type": "display_data"
    }
   ],
   "source": [
    "def getValue(x):\n",
    "    return x\n",
    "\n",
    "if mode.value == '分數區間 ( 如100 - 90 )':\n",
    "    print('請選擇成績：')\n",
    "    def egg(x):\n",
    "        Egg = getValue(x)\n",
    "        if Egg == 1:\n",
    "            gpa = 4.3\n",
    "        elif Egg == 2:\n",
    "            gpa = 4.0\n",
    "        elif Egg == 3:\n",
    "            gpa = 3.7\n",
    "        elif Egg == 4:\n",
    "            gpa = 3.3\n",
    "        elif Egg == 5:\n",
    "            gpa = 3.0\n",
    "        elif Egg == 6:\n",
    "            gpa = 2.7\n",
    "        elif Egg == 7:\n",
    "            gpa = 2.3\n",
    "        elif Egg == 8:\n",
    "            gpa = 2.0\n",
    "        elif Egg == 9:\n",
    "            gpa = 1.7\n",
    "        elif Egg == 10:\n",
    "            gpa = 1.3\n",
    "        elif Egg == 11:\n",
    "            gpa = 1.0\n",
    "        elif Egg == 12:\n",
    "            gpa = 0.7\n",
    "        else:\n",
    "            gpa = 0\n",
    "        print(\"你的GPA是 \" + str(gpa))\n",
    "    interact(egg, x = {\"100 - 90\": 1, \"89 - 85\": 2, \"84 - 80\": 3, \"79 - 77\": 4, \"76 - 73\": 5, \"72 - 70\": 6, \"69 - 67\": 7, \"66 - 63\": 8, \"62 - 60\": 9, \"59 - 57\": 10, \"56 - 53\": 11, \"52 - 50\": 12, \"49 - 0\": 13});\n",
    "    \n",
    "    \n",
    "else:\n",
    "    print('請選擇成績：')\n",
    "    def ham(x):\n",
    "        Ham = getValue(x)\n",
    "        if Ham == 1:\n",
    "            gpa = 4.3\n",
    "        elif Ham == 2:\n",
    "            gpa = 4.0\n",
    "        elif Ham == 3:\n",
    "            gpa = 3.7\n",
    "        elif Ham == 4:\n",
    "            gpa = 3.3\n",
    "        elif Ham == 5:\n",
    "            gpa = 3.0\n",
    "        elif Ham == 6:\n",
    "            gpa = 2.7\n",
    "        elif Ham == 7:\n",
    "            gpa = 2.3\n",
    "        elif Ham == 8:\n",
    "            gpa = 2.0\n",
    "        elif Ham == 9:\n",
    "            gpa = 1.7\n",
    "        elif Ham == 10:\n",
    "            gpa = 1.3\n",
    "        elif Ham == 11:\n",
    "            gpa = 1.0\n",
    "        elif Ham == 12:\n",
    "            gpa = 0.7\n",
    "        else:\n",
    "            gpa = 0\n",
    "        print(\"你的GPA是 \" + str(gpa))\n",
    "    interact(ham, x = {'A+': 1, 'A': 2, 'A-': 3, 'B+': 4, 'B': 5, 'B-': 6, \"C+\": 7, 'C': 8, 'C-': 9, 'D+': 10, 'D': 11, 'D-': 12, 'F': 13});\n",
    "    \n"
   ]
  },
  {
   "cell_type": "code",
   "execution_count": null,
   "metadata": {},
   "outputs": [],
   "source": []
  }
 ],
 "metadata": {
  "kernelspec": {
   "display_name": "Python 3",
   "language": "python",
   "name": "python3"
  },
  "language_info": {
   "codemirror_mode": {
    "name": "ipython",
    "version": 3
   },
   "file_extension": ".py",
   "mimetype": "text/x-python",
   "name": "python",
   "nbconvert_exporter": "python",
   "pygments_lexer": "ipython3",
   "version": "3.7.3"
  }
 },
 "nbformat": 4,
 "nbformat_minor": 2
}
